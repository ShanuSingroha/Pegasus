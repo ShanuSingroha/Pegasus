{
 "cells": [
  {
   "cell_type": "code",
   "execution_count": null,
   "id": "784c2ed9",
   "metadata": {},
   "outputs": [],
   "source": [
    "!pip install tensorflow\n",
    "from transformers import PegasusTokenizer, TFPegasusModel\n",
    "import tensorflow as tf\n",
    "\n",
    "tokenizer = PegasusTokenizer.from_pretrained(\"google/pegasus-large\")\n",
    "model = TFPegasusModel.from_pretrained(\"google/pegasus-large\")\n",
    "\n",
    "inputs = tokenizer(\"Hello, my dog is cute\", return_tensors=\"tf\")\n",
    "outputs = model(inputs)\n",
    "\n",
    "last_hidden_states = outputs.last_hidden_state"
   ]
  },
  {
   "cell_type": "markdown",
   "id": "145c5c2d",
   "metadata": {},
   "source": [
    "( *args **kwargs )\n",
    "\n",
    "Parameters\n",
    "\n",
    "config (PegasusConfig) — Model configuration class with all the parameters of the model. Initializing with a config file does not load the weights associated with the model, only the configuration. Check out the from_pretrained() method to load the model weights\n"
   ]
  },
  {
   "cell_type": "markdown",
   "id": "49f22f13",
   "metadata": {},
   "source": [
    "call\n",
    "\n",
    "( input_ids = Noneattention_mask = Nonedecoder_input_ids = Nonedecoder_attention_mask = Nonehead_mask = Nonedecoder_head_mask = Nonecross_attn_head_mask = Noneencoder_outputs: typing.Union[typing.Tuple, transformers.modeling_tf_outputs.TFBaseModelOutput, NoneType] = Nonepast_key_values = Noneinputs_embeds = Nonedecoder_inputs_embeds = Noneuse_cache = Noneoutput_attentions = Noneoutput_hidden_states = Nonereturn_dict = Nonetraining = False**kwargs ) → transformers.modeling_tf_outputs.TFSeq2SeqModelOutput or tuple(tf.Tensor)"
   ]
  }
 ],
 "metadata": {
  "kernelspec": {
   "display_name": "Python 3 (ipykernel)",
   "language": "python",
   "name": "python3"
  },
  "language_info": {
   "codemirror_mode": {
    "name": "ipython",
    "version": 3
   },
   "file_extension": ".py",
   "mimetype": "text/x-python",
   "name": "python",
   "nbconvert_exporter": "python",
   "pygments_lexer": "ipython3",
   "version": "3.10.4"
  }
 },
 "nbformat": 4,
 "nbformat_minor": 5
}
