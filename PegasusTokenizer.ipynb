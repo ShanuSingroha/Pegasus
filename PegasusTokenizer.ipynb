{
 "cells": [
  {
   "cell_type": "markdown",
   "id": "95351722",
   "metadata": {},
   "source": [
    "# class transformers.PegasusTokenizer"
   ]
  },
  {
   "cell_type": "markdown",
   "id": "27d54816",
   "metadata": {},
   "source": [
    "( vocab_filepad_token = '<pad>'eos_token = '</s>'unk_token = '<unk>'mask_token = '<mask_2>'mask_token_sent = '<mask_1>'additional_special_tokens = Noneoffset = 103sp_model_kwargs: typing.Union[typing.Dict[str, typing.Any], NoneType] = None**kwargs )"
   ]
  },
  {
   "cell_type": "markdown",
   "id": "ef910fc5",
   "metadata": {},
   "source": [
    "vocab_file (str) — SentencePiece file (generally has a .spm extension) that contains the vocabulary necessary to instantiate a tokenizer.\n",
    "\n",
    "\n",
    "pad_token (str, optional, defaults to \"pad\") — The token used for padding, for example when batching sequences of different lengths.\n",
    "    \n",
    "    \n",
    "eos_token (str, optional, defaults to \"/s\") — The end of sequence token.\n",
    "\n",
    "\n",
    "unk_token (str, optional, defaults to \"unk\") — The unknown token. A token that is not in the vocabulary cannot be converted to an ID and is set to be this token instead.\n",
    "    \n",
    "    \n",
    "mask_token (str, optional, defaults to \"mask_2\") — The token used for masking single token values. This is the token used when training this model with masked language modeling (MLM). This is the token that the PEGASUS encoder will try to predict during pretraining. It corresponds to [MASK2] in PEGASUS: Pre-training with Extracted Gap-sentences for Abstractive Summarization.\n",
    "\n",
    "    \n",
    "mask_token_sent (str, optional, defaults to \"mask_1\") — The token used for masking whole target sentences. This is the token used when training this model with gap sentences generation (GSG). This is the sentence that the PEGASUS decoder will try to predict during pretraining. It corresponds to [MASK1] in PEGASUS: Pre-training with Extracted Gap-sentences for Abstractive Summarization.\n",
    "    \n",
    "\n",
    "additional_special_tokens (List[str], optional) — Additional special tokens used by the tokenizer. If no additional_special_tokens are provided and are used as additional special tokens corresponding to the original PEGASUS tokenizer that uses the tokens 2 - 104 only for pretraining\n",
    "\n",
    "    \n",
    "sp_model_kwargs (dict, optional) — Will be passed to the SentencePieceProcessor.__init__() method. The Python wrapper for SentencePiece can be used, among other things, to set:\n",
    "enable_sampling: Enable subword regularization.\n",
    "\n",
    "nbest_size: Sampling parameters for unigram. Invalid for BPE-Dropout.\n",
    "\n",
    "nbest_size = {0,1}: No sampling is performed.\n",
    "    \n",
    "    \n",
    "nbest_size > 1: samples from the nbest_size results.\n",
    "    \n",
    "    \n",
    "nbest_size < 0: assuming that nbest_size is infinite and samples from the all hypothesis (lattice) using forward-filtering-and-backward-sampling algorithm.\n",
    "               \n",
    "               \n",
    "alpha: Smoothing parameter for unigram sampling, and dropout probability of merge operations for BPE-dropout."
   ]
  },
  {
   "cell_type": "code",
   "execution_count": null,
   "id": "03f9f0c4",
   "metadata": {},
   "outputs": [],
   "source": []
  }
 ],
 "metadata": {
  "kernelspec": {
   "display_name": "Python 3 (ipykernel)",
   "language": "python",
   "name": "python3"
  },
  "language_info": {
   "codemirror_mode": {
    "name": "ipython",
    "version": 3
   },
   "file_extension": ".py",
   "mimetype": "text/x-python",
   "name": "python",
   "nbconvert_exporter": "python",
   "pygments_lexer": "ipython3",
   "version": "3.10.4"
  }
 },
 "nbformat": 4,
 "nbformat_minor": 5
}
