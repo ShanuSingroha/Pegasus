{
 "cells": [
  {
   "cell_type": "markdown",
   "id": "bc05bce8",
   "metadata": {},
   "source": [
    "# PegasusTokenizerFast\n"
   ]
  },
  {
   "cell_type": "markdown",
   "id": "7f146681",
   "metadata": {},
   "source": [
    "class transformers.PegasusTokenizerFast\n",
    "\n",
    "\n",
    "( vocab_file = Nonetokenizer_file = Nonepad_token = '<pad>'eos_token = '</s>'unk_token = '<unk>'mask_token = '<mask_2>'mask_token_sent = '<mask_1>'additional_special_tokens = Noneoffset = 103**kwargs )"
   ]
  },
  {
   "cell_type": "markdown",
   "id": "f8b413ad",
   "metadata": {},
   "source": [
    "vocab_file (str) — SentencePiece file (generally has a .spm extension) that contains the vocabulary necessary to instantiate a tokenizer.\n",
    "\n",
    "\n",
    "pad_token (str, optional, defaults to \"<pad>\") — The token used for padding, for example when batching sequences of different lengths.\n",
    "    \n",
    "    \n",
    "eos_token (str, optional, defaults to \"</s>\") — The end of sequence token.\n",
    "\n",
    "\n",
    "When building a sequence using special tokens, this is not the token that is used for the end of sequence. The token used is the sep_token.\n",
    "\n",
    "\n",
    "\n",
    "unk_token (str, optional, defaults to \"<unk>\") — The unknown token. A token that is not in the vocabulary cannot be converted to an ID and is set to be this token instead.\n",
    "    \n",
    "    \n",
    "mask_token (str, optional, defaults to \"<mask_2>\") — The token used for masking single token values. This is the token used when training this model with masked language modeling (MLM). This is the token that the PEGASUS encoder will try to predict during pretraining. It corresponds to [MASK2] in PEGASUS: Pre-training with Extracted Gap-sentences for Abstractive Summarization.\n",
    "\n",
    "    \n",
    "mask_token_sent (str, optional, defaults to \"<mask_1>\") — The token used for masking whole target sentences. This is the token used when training this model with gap sentences generation (GSG). This is the sentence that the PEGASUS decoder will try to predict during pretraining. It corresponds to [MASK1] in PEGASUS: Pre-training with Extracted Gap-sentences for Abstractive Summarization.\n",
    "\n",
    "    \n",
    "additional_special_tokens (List[str], optional) — Additional special tokens used by the tokenizer. If no additional_special_tokens are provided and are used as additional special tokens corresponding to the original PEGASUS tokenizer that uses the tokens 2 - 104 only for pretraining"
   ]
  },
  {
   "cell_type": "code",
   "execution_count": null,
   "id": "2e28e7ee",
   "metadata": {},
   "outputs": [],
   "source": []
  }
 ],
 "metadata": {
  "kernelspec": {
   "display_name": "Python 3 (ipykernel)",
   "language": "python",
   "name": "python3"
  },
  "language_info": {
   "codemirror_mode": {
    "name": "ipython",
    "version": 3
   },
   "file_extension": ".py",
   "mimetype": "text/x-python",
   "name": "python",
   "nbconvert_exporter": "python",
   "pygments_lexer": "ipython3",
   "version": "3.10.4"
  }
 },
 "nbformat": 4,
 "nbformat_minor": 5
}
